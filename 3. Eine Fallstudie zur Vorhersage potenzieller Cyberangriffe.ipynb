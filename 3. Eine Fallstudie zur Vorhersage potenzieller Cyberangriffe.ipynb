{
 "cells": [
  {
   "cell_type": "markdown",
   "metadata": {},
   "source": [
    "## Das beste Modell: \n",
    "### Logistic Regression, Tfidf, Trigramme and Max. Feature = 100000\n",
    "Nach der Modellauswertung ist es festgestellt, welches Modell mit welchen Merkmalen ausgewählt werden muss. Für die Vorhersage dieser Fallstudie wird die logistische Regression verwendet. Dazu wird die TF-IDF-Methode mit Trigrammen und maximaler Anzahl von Features von 100000 genutzt. Außerdem kann das beste Ergebnis mit einem Datensatz, der Stoppwörter noch enthält, erzielt werden. Daher wird die Datei 'clean_tweet.csv' verwendet."
   ]
  },
  {
   "cell_type": "code",
   "execution_count": 1,
   "metadata": {},
   "outputs": [],
   "source": [
    "import pandas as pd\n",
    "import numpy as np\n",
    "from sklearn.model_selection import train_test_split\n",
    "from sklearn.feature_extraction.text import TfidfVectorizer\n",
    "from sklearn.linear_model import LogisticRegression\n",
    "from sklearn.metrics import accuracy_score, confusion_matrix, classification_report\n",
    "\n",
    "csv = 'clean_tweet.csv'\n",
    "my_df = pd.read_csv(csv)\n",
    "my_df.dropna(inplace=True)\n",
    "my_df.reset_index(drop=True,inplace=True)"
   ]
  },
  {
   "cell_type": "code",
   "execution_count": 2,
   "metadata": {
    "scrolled": false
   },
   "outputs": [
    {
     "name": "stdout",
     "output_type": "stream",
     "text": [
      "LogisticRegression(C=2, max_iter=1000, n_jobs=-1)\n",
      "Accuracy: 82.41%\n",
      "--------------------------------------------------------------------------------\n",
      "Classification Report\n",
      "\n",
      "              precision    recall  f1-score   support\n",
      "\n",
      "           0     0.8322    0.8122    0.8221     39951\n",
      "           1     0.8163    0.8360    0.8260     39877\n",
      "\n",
      "    accuracy                         0.8241     79828\n",
      "   macro avg     0.8243    0.8241    0.8240     79828\n",
      "weighted avg     0.8243    0.8241    0.8240     79828\n",
      "\n"
     ]
    }
   ],
   "source": [
    "SEED = 26105111\n",
    "# Trainingsdaten und Testdaten werden aufgesplittet\n",
    "x = my_df.text\n",
    "y = my_df.sentiment\n",
    "x_train, x_test, y_train, y_test = train_test_split(x, y, test_size=.05, random_state=SEED)\n",
    "\n",
    "# TF-IDF wird zur Merkmalenextraktion ausgewählt\n",
    "tvec = TfidfVectorizer(ngram_range=(1, 3),max_features=100000)\n",
    "tvec.fit(x_train)\n",
    "x_train = tvec.transform(x_train)\n",
    "x_test = tvec.transform(x_test)\n",
    "\n",
    "# logisitsche Regression wird für die Vorhersage ausgewählt\n",
    "lr_model = LogisticRegression(C = 2, max_iter = 1000, n_jobs=-1)\n",
    "fit = lr_model.fit(x_train, y_train)\n",
    "y_pred = fit.predict(x_test)\n",
    "\n",
    "# Klassifizierungswerte\n",
    "print(lr_model)\n",
    "print(\"Accuracy: {0:.2f}%\".format(accuracy_score(y_test, y_pred)*100))\n",
    "print(\"-\"*80)\n",
    "print(\"Classification Report\\n\")\n",
    "print(classification_report(y_test, y_pred, digits=4))"
   ]
  },
  {
   "cell_type": "markdown",
   "metadata": {},
   "source": [
    "## Fallstudie: \n",
    "Zur Untersuchung wird ein Datensatz ausgewählt, der während eines wichtigen Ereignisses, der US-Präsidentschaftswahl im Jahr 2020, gesammelt wurde. Die Analyse der Stimmungslage der Menschen, die auf die Wahl reagieren, wird Aufschluss darüber geben, ob es während des Ereignisses möglicherweise zu Straftaten im Zusammenhang mit der Cybersicherheit kommt, die sich gegen die Kandidaten oder die Regierung richten."
   ]
  },
  {
   "cell_type": "markdown",
   "metadata": {},
   "source": [
    "### 1. Untersuchung des Nutzersentiments gegenüber Kandidat 1:"
   ]
  },
  {
   "cell_type": "code",
   "execution_count": 3,
   "metadata": {},
   "outputs": [
    {
     "data": {
      "text/html": [
       "<div>\n",
       "<style scoped>\n",
       "    .dataframe tbody tr th:only-of-type {\n",
       "        vertical-align: middle;\n",
       "    }\n",
       "\n",
       "    .dataframe tbody tr th {\n",
       "        vertical-align: top;\n",
       "    }\n",
       "\n",
       "    .dataframe thead th {\n",
       "        text-align: right;\n",
       "    }\n",
       "</style>\n",
       "<table border=\"1\" class=\"dataframe\">\n",
       "  <thead>\n",
       "    <tr style=\"text-align: right;\">\n",
       "      <th></th>\n",
       "      <th>created_at</th>\n",
       "      <th>text</th>\n",
       "      <th>user_screen_name</th>\n",
       "      <th>city</th>\n",
       "      <th>country</th>\n",
       "    </tr>\n",
       "  </thead>\n",
       "  <tbody>\n",
       "    <tr>\n",
       "      <th>0</th>\n",
       "      <td>2020-10-15 00:00:01</td>\n",
       "      <td>#Elecciones2020 | En #Florida: #JoeBiden dice ...</td>\n",
       "      <td>elsollatinonews</td>\n",
       "      <td>NaN</td>\n",
       "      <td>United States of America</td>\n",
       "    </tr>\n",
       "    <tr>\n",
       "      <th>1</th>\n",
       "      <td>2020-10-15 00:00:01</td>\n",
       "      <td>Usa 2020, Trump contro Facebook e Twitter: cop...</td>\n",
       "      <td>MediasetTgcom24</td>\n",
       "      <td>NaN</td>\n",
       "      <td>NaN</td>\n",
       "    </tr>\n",
       "    <tr>\n",
       "      <th>2</th>\n",
       "      <td>2020-10-15 00:00:02</td>\n",
       "      <td>#Trump: As a student I used to hear for years,...</td>\n",
       "      <td>snarke</td>\n",
       "      <td>Portland</td>\n",
       "      <td>United States of America</td>\n",
       "    </tr>\n",
       "    <tr>\n",
       "      <th>3</th>\n",
       "      <td>2020-10-15 00:00:02</td>\n",
       "      <td>2 hours since last tweet from #Trump! Maybe he...</td>\n",
       "      <td>trumpytweeter</td>\n",
       "      <td>NaN</td>\n",
       "      <td>NaN</td>\n",
       "    </tr>\n",
       "    <tr>\n",
       "      <th>4</th>\n",
       "      <td>2020-10-15 00:00:08</td>\n",
       "      <td>You get a tie! And you get a tie! #Trump âs ...</td>\n",
       "      <td>Ranaabtar</td>\n",
       "      <td>Washington</td>\n",
       "      <td>United States of America</td>\n",
       "    </tr>\n",
       "  </tbody>\n",
       "</table>\n",
       "</div>"
      ],
      "text/plain": [
       "            created_at                                               text  \\\n",
       "0  2020-10-15 00:00:01  #Elecciones2020 | En #Florida: #JoeBiden dice ...   \n",
       "1  2020-10-15 00:00:01  Usa 2020, Trump contro Facebook e Twitter: cop...   \n",
       "2  2020-10-15 00:00:02  #Trump: As a student I used to hear for years,...   \n",
       "3  2020-10-15 00:00:02  2 hours since last tweet from #Trump! Maybe he...   \n",
       "4  2020-10-15 00:00:08  You get a tie! And you get a tie! #Trump âs ...   \n",
       "\n",
       "  user_screen_name        city                   country  \n",
       "0  elsollatinonews         NaN  United States of America  \n",
       "1  MediasetTgcom24         NaN                       NaN  \n",
       "2           snarke    Portland  United States of America  \n",
       "3    trumpytweeter         NaN                       NaN  \n",
       "4        Ranaabtar  Washington  United States of America  "
      ]
     },
     "execution_count": 3,
     "metadata": {},
     "output_type": "execute_result"
    }
   ],
   "source": [
    "data = pd.read_csv(\"hashtag_donaldtrump.csv\",encoding = \"ISO-8859-1\", lineterminator='\\n')\n",
    "df = data.iloc[:,[0,2,8,15,16]]\n",
    "df = df.rename(columns={'tweet':'text'})\n",
    "df.head()"
   ]
  },
  {
   "cell_type": "markdown",
   "metadata": {},
   "source": [
    "### 1.1 Filtern nach IT-Sicherheit-bezogenen Termen\n",
    "gemäß ”The Glossary of Common Cybersecurity Terminology”\n",
    "(Quelle:https://niccs.cisa.gov/about-niccs/cybersecurity-glossary)"
   ]
  },
  {
   "cell_type": "code",
   "execution_count": 4,
   "metadata": {
    "scrolled": true
   },
   "outputs": [
    {
     "name": "stdout",
     "output_type": "stream",
     "text": [
      "2330 Twitter-Texte mit IT-Sicherheit Termen werden gefunden\n"
     ]
    }
   ],
   "source": [
    "# Tokenisierung: Texte wird in einzelne Wörter zerlegt\n",
    "text = df.text.str.split('\\s+')\n",
    "\n",
    "# Liste ausgewählter IT-sicherheit-relevanten Termen\n",
    "cs_termen = set([\"phishing\",\"dos\",\"botnet\", \"hacker\",\"xss\",\"wannacry\", \n",
    "                 \"heartbled\", \"DDoS\", \"ransomware\", \"malware\",\"mitm\", \n",
    "                 \"petya\", \"mirai\", \"firewall\", \"trojan\", \"worm\", \"bot\", \n",
    "                 \"stuxnet\",\"eternalblue\", \"infosec\", \"keylogger\", \"spam\", \n",
    "                 \"spammer\", \"rootkit\", \"phreaking\", \"conficker\", \"worm\", \"scam\", \"hack\"])\n",
    "\n",
    "# Der Filter wird definiert\n",
    "def cs_filter(termen):\n",
    "    return any(term in cs_termen for term in termen)\n",
    "\n",
    "# Filter wird auf den Datensatz verwendet\n",
    "gefilterte_text = text.apply(cs_filter)\n",
    "my_df = df[gefilterte_text]\n",
    "print(str(len(my_df)) + ' Twitter-Texte mit IT-Sicherheit Termen werden gefunden')"
   ]
  },
  {
   "cell_type": "code",
   "execution_count": 5,
   "metadata": {},
   "outputs": [
    {
     "name": "stderr",
     "output_type": "stream",
     "text": [
      "<ipython-input-5-d67921a4f70f>:1: UserWarning: Boolean Series key will be reindexed to match DataFrame index.\n",
      "  my_df= pd.DataFrame(my_df[gefilterte_text])\n"
     ]
    }
   ],
   "source": [
    "my_df= pd.DataFrame(my_df[gefilterte_text])\n",
    "my_df = my_df.reset_index(drop=True)"
   ]
  },
  {
   "cell_type": "markdown",
   "metadata": {},
   "source": [
    "### 1.2 Datenverarbeitung"
   ]
  },
  {
   "cell_type": "code",
   "execution_count": 6,
   "metadata": {},
   "outputs": [
    {
     "name": "stdout",
     "output_type": "stream",
     "text": [
      "Daten sind fertig verarbeitet\n"
     ]
    }
   ],
   "source": [
    "# notwendige Python-Pakete importieren\n",
    "import pandas as pd\n",
    "import re\n",
    "from bs4 import BeautifulSoup\n",
    "from nltk.tokenize import WordPunctTokenizer\n",
    "\n",
    "con_dict = {\"isn't\":\"is not\", \"aren't\":\"are not\", \"wasn't\":\"was not\", \n",
    "            \"weren't\":\"were not\",\"haven't\":\"have not\",\"hasn't\":\"has not\",\n",
    "            \"hadn't\":\"had not\",\"won't\":\"will not\",\"wouldn't\":\"would not\",\n",
    "            \"don't\":\"do not\", \"doesn't\":\"does not\",\"didn't\":\"did not\",\n",
    "            \"can't\":\"can not\",\"couldn't\":\"could not\",\"shouldn't\":\"should not\",\n",
    "            \"mightn't\":\"might not\",\"mustn't\":\"must not\", \"'s\":\" is\", \"'re\":\" are\", \n",
    "            \"'m\":\" am\", \"'ll\":\" will\", \"'d\":\" would\"}\n",
    "\n",
    "con_re = re.compile('(%s)' % '|'.join(con_dict.keys()))\n",
    "tok = WordPunctTokenizer()\n",
    "\n",
    "# Vorverarbeitungsschritte, die unternommen werden sollen, sind z.B. Trennung der zusammengezogenen Wörter,\n",
    "# Entfernung von Sonderzeichen und Zahlen, HTML-Umwandlung, Kleinschreibung\n",
    "def dvv(text):    \n",
    "    wort_trennen = con_re.sub(lambda x: con_dict[x.group()],str(text))\n",
    "    url_entfernen = re.sub('((www.[^ ]+)|(https?://[^ ]+))','',wort_trennen)\n",
    "    soup = BeautifulSoup(url_entfernen, 'lxml')\n",
    "    souped = soup.get_text()\n",
    "    klein_umwandeln = str(souped).lower()\n",
    "    zahlen_entfern = re.sub(r'((@[A-Za-z0-9_]+)|([0-9]+)|([&?.!/;:%*+-<>§$]))', \" \", klein_umwandeln)\n",
    "    wort = [x for x  in tok.tokenize(zahlen_entfern) if len(x) > 1]\n",
    "    return (\" \".join(wort)).strip()\n",
    "\n",
    "# Alle Texte im Datensatz werden verarbeitet...\n",
    "dvv_text = []\n",
    "for i in range(0,len(my_df)):\n",
    "    dvv_text.append(dvv(my_df['text'][i]))\n",
    "print('Daten sind fertig verarbeitet')\n",
    "\n",
    "#...und zusammenfassen\n",
    "new_data = pd.DataFrame(dvv_text,columns=['text'])\n",
    "new_data.text.dropna(inplace=True)"
   ]
  },
  {
   "cell_type": "markdown",
   "metadata": {},
   "source": [
    "### 1.3 Sentimentanalyse:"
   ]
  },
  {
   "cell_type": "code",
   "execution_count": 8,
   "metadata": {},
   "outputs": [],
   "source": [
    "new_text = new_data.text\n",
    "X_mat_1 = tvec.transform(new_text)\n",
    "y_hat_1 = lr_model.predict(X_mat_1)"
   ]
  },
  {
   "cell_type": "code",
   "execution_count": 10,
   "metadata": {
    "scrolled": true
   },
   "outputs": [
    {
     "data": {
      "text/html": [
       "<div>\n",
       "<style scoped>\n",
       "    .dataframe tbody tr th:only-of-type {\n",
       "        vertical-align: middle;\n",
       "    }\n",
       "\n",
       "    .dataframe tbody tr th {\n",
       "        vertical-align: top;\n",
       "    }\n",
       "\n",
       "    .dataframe thead th {\n",
       "        text-align: right;\n",
       "    }\n",
       "</style>\n",
       "<table border=\"1\" class=\"dataframe\">\n",
       "  <thead>\n",
       "    <tr style=\"text-align: right;\">\n",
       "      <th></th>\n",
       "      <th>text</th>\n",
       "      <th>sentiment</th>\n",
       "      <th>datum</th>\n",
       "      <th>user_name</th>\n",
       "      <th>standort</th>\n",
       "    </tr>\n",
       "  </thead>\n",
       "  <tbody>\n",
       "    <tr>\n",
       "      <th>0</th>\n",
       "      <td>Another #Murdoch hack job - just like @FoxNews...</td>\n",
       "      <td>1</td>\n",
       "      <td>2020-10-15 00:18:07</td>\n",
       "      <td>dtcav</td>\n",
       "      <td>Philadelphia</td>\n",
       "    </tr>\n",
       "    <tr>\n",
       "      <th>1</th>\n",
       "      <td>Lumumba is perplexed &amp;amp; confused on an issu...</td>\n",
       "      <td>0</td>\n",
       "      <td>2020-10-15 00:33:27</td>\n",
       "      <td>KareemLumumba</td>\n",
       "      <td>NaN</td>\n",
       "    </tr>\n",
       "    <tr>\n",
       "      <th>2</th>\n",
       "      <td>Faltando 20 dias para as eleiÃ§Ãµes dos Estado...</td>\n",
       "      <td>0</td>\n",
       "      <td>2020-10-15 01:52:54</td>\n",
       "      <td>Eua2020</td>\n",
       "      <td>NaN</td>\n",
       "    </tr>\n",
       "    <tr>\n",
       "      <th>3</th>\n",
       "      <td>Biden and Obama are the most corrupt administr...</td>\n",
       "      <td>0</td>\n",
       "      <td>2020-10-15 01:57:29</td>\n",
       "      <td>Bit_Fink</td>\n",
       "      <td>NaN</td>\n",
       "    </tr>\n",
       "    <tr>\n",
       "      <th>4</th>\n",
       "      <td>What an ignorant and confused fool. #trump is ...</td>\n",
       "      <td>0</td>\n",
       "      <td>2020-10-15 03:22:45</td>\n",
       "      <td>JacklegBuster</td>\n",
       "      <td>NaN</td>\n",
       "    </tr>\n",
       "  </tbody>\n",
       "</table>\n",
       "</div>"
      ],
      "text/plain": [
       "                                                text  sentiment  \\\n",
       "0  Another #Murdoch hack job - just like @FoxNews...          1   \n",
       "1  Lumumba is perplexed &amp; confused on an issu...          0   \n",
       "2  Faltando 20 dias para as eleiÃ§Ãµes dos Estado...          0   \n",
       "3  Biden and Obama are the most corrupt administr...          0   \n",
       "4  What an ignorant and confused fool. #trump is ...          0   \n",
       "\n",
       "                 datum      user_name      standort  \n",
       "0  2020-10-15 00:18:07          dtcav  Philadelphia  \n",
       "1  2020-10-15 00:33:27  KareemLumumba           NaN  \n",
       "2  2020-10-15 01:52:54        Eua2020           NaN  \n",
       "3  2020-10-15 01:57:29       Bit_Fink           NaN  \n",
       "4  2020-10-15 03:22:45  JacklegBuster           NaN  "
      ]
     },
     "execution_count": 10,
     "metadata": {},
     "output_type": "execute_result"
    }
   ],
   "source": [
    "# neu klassifizierte Daten können angeschaut werden\n",
    "predict = pd.DataFrame(my_df.text)\n",
    "predict['sentiment'] = y_hat_1\n",
    "predict['datum'] = my_df.created_at\n",
    "predict['user_name'] = my_df.user_screen_name\n",
    "predict['standort'] = my_df.city\n",
    "predict.head()"
   ]
  },
  {
   "cell_type": "code",
   "execution_count": 11,
   "metadata": {},
   "outputs": [
    {
     "data": {
      "text/plain": [
       "1    1519\n",
       "0     811\n",
       "Name: sentiment, dtype: int64"
      ]
     },
     "execution_count": 11,
     "metadata": {},
     "output_type": "execute_result"
    }
   ],
   "source": [
    "# die Verteilung der Sentiment\n",
    "predict[\"sentiment\"].value_counts()"
   ]
  },
  {
   "cell_type": "code",
   "execution_count": 12,
   "metadata": {},
   "outputs": [
    {
     "data": {
      "image/png": "[encoded data removed]",
      "text/plain": [
       "<Figure size 432x432 with 1 Axes>"
      ]
     },
     "metadata": {},
     "output_type": "display_data"
    }
   ],
   "source": [
    "import matplotlib.pyplot as plt\n",
    "plt.style.use('fivethirtyeight')\n",
    "plt.figure(figsize=(6, 6))\n",
    "plt.pie(\n",
    "    predict[\"sentiment\"].value_counts(),\n",
    "    autopct = \"%.2f%%\",\n",
    "    labels = [\"positiv\", \"negativ\"],\n",
    "    colors = [\"#00ff00\", \"#ff0000\"]\n",
    ")\n",
    "\n",
    "circle = plt.Circle((0,0), 0.80,fc='white')\n",
    "fig = plt.gcf()\n",
    "fig.gca().add_artist(circle)\n",
    "\n",
    "plt.show()"
   ]
  },
  {
   "cell_type": "code",
   "execution_count": 13,
   "metadata": {},
   "outputs": [
    {
     "data": {
      "text/html": [
       "<div>\n",
       "<style scoped>\n",
       "    .dataframe tbody tr th:only-of-type {\n",
       "        vertical-align: middle;\n",
       "    }\n",
       "\n",
       "    .dataframe tbody tr th {\n",
       "        vertical-align: top;\n",
       "    }\n",
       "\n",
       "    .dataframe thead th {\n",
       "        text-align: right;\n",
       "    }\n",
       "</style>\n",
       "<table border=\"1\" class=\"dataframe\">\n",
       "  <thead>\n",
       "    <tr style=\"text-align: right;\">\n",
       "      <th></th>\n",
       "      <th>user_name</th>\n",
       "    </tr>\n",
       "  </thead>\n",
       "  <tbody>\n",
       "    <tr>\n",
       "      <th>KempBadforGA</th>\n",
       "      <td>9</td>\n",
       "    </tr>\n",
       "    <tr>\n",
       "      <th>TelemundoNews</th>\n",
       "      <td>6</td>\n",
       "    </tr>\n",
       "    <tr>\n",
       "      <th>_bubblegyu</th>\n",
       "      <td>5</td>\n",
       "    </tr>\n",
       "    <tr>\n",
       "      <th>JacklegBuster</th>\n",
       "      <td>5</td>\n",
       "    </tr>\n",
       "    <tr>\n",
       "      <th>wollf_f_Crypto</th>\n",
       "      <td>4</td>\n",
       "    </tr>\n",
       "    <tr>\n",
       "      <th>marcelinharosa</th>\n",
       "      <td>4</td>\n",
       "    </tr>\n",
       "    <tr>\n",
       "      <th>Mundo__News</th>\n",
       "      <td>4</td>\n",
       "    </tr>\n",
       "  </tbody>\n",
       "</table>\n",
       "</div>"
      ],
      "text/plain": [
       "                user_name\n",
       "KempBadforGA            9\n",
       "TelemundoNews           6\n",
       "_bubblegyu              5\n",
       "JacklegBuster           5\n",
       "wollf_f_Crypto          4\n",
       "marcelinharosa          4\n",
       "Mundo__News             4"
      ]
     },
     "execution_count": 13,
     "metadata": {},
     "output_type": "execute_result"
    }
   ],
   "source": [
    "text_negative_org = predict[predict[\"sentiment\"]==0]\n",
    "user = text_negative_org['user_name'].value_counts().nlargest(7)\n",
    "pd.DataFrame(user)"
   ]
  },
  {
   "cell_type": "markdown",
   "metadata": {},
   "source": [
    "### 2. Untersuchung des Nutzersentiments gegenüber Kandidat 2:"
   ]
  },
  {
   "cell_type": "code",
   "execution_count": 14,
   "metadata": {},
   "outputs": [
    {
     "name": "stdout",
     "output_type": "stream",
     "text": [
      "<class 'pandas.core.frame.DataFrame'>\n",
      "RangeIndex: 776886 entries, 0 to 776885\n",
      "Data columns (total 5 columns):\n",
      " #   Column            Non-Null Count   Dtype \n",
      "---  ------            --------------   ----- \n",
      " 0   created_at        776886 non-null  object\n",
      " 1   text              776886 non-null  object\n",
      " 2   user_screen_name  776886 non-null  object\n",
      " 3   city              186872 non-null  object\n",
      " 4   country           353779 non-null  object\n",
      "dtypes: object(5)\n",
      "memory usage: 29.6+ MB\n"
     ]
    }
   ],
   "source": [
    "data = pd.read_csv(\"hashtag_joebiden.csv\",encoding = \"ISO-8859-1\", lineterminator='\\n')\n",
    "df = data.iloc[:,[0,2,8,15,16]]\n",
    "df = df.rename(columns={'tweet':'text'})\n",
    "df.info()"
   ]
  },
  {
   "cell_type": "markdown",
   "metadata": {},
   "source": [
    "### 2.1 Filtern nach IT-Sicherheit-bezogenen Termen:\n",
    "gemäß ”The Glossary of Common Cybersecurity Terminology”\n",
    "(Quelle :https://niccs.cisa.gov/about-niccs/cybersecurity-glossary)"
   ]
  },
  {
   "cell_type": "code",
   "execution_count": 15,
   "metadata": {},
   "outputs": [
    {
     "name": "stdout",
     "output_type": "stream",
     "text": [
      "2010 Twitter-Texte mit IT-Sicherheit Termen werden gefunden\n"
     ]
    }
   ],
   "source": [
    "# Tokenisierung: Texte wird in einzelne Wörter zerlegt\n",
    "text = df.text.str.split('\\s+')\n",
    "\n",
    "# Liste ausgewählter IT-sicherheit-relevanten Termen\n",
    "cs_termen = set([\"phishing\",\"dos\",\"botnet\", \"hacker\",\"xss\",\"wannacry\", \n",
    "                 \"heartbled\", \"DDoS\", \"ransomware\", \"malware\",\"mitm\", \n",
    "                 \"petya\", \"mirai\", \"firewall\", \"trojan\", \"worm\", \"bot\", \n",
    "                 \"stuxnet\",\"eternalblue\", \"infosec\", \"keylogger\", \"spam\", \n",
    "                 \"spammer\", \"rootkit\", \"phreaking\", \"conficker\", \"worm\", \"scam\", \"hack\"])\n",
    "\n",
    "# Der Filter wird definiert\n",
    "def cs_filter(termen):\n",
    "    return any(term in cs_termen for term in termen)\n",
    "\n",
    "# Filter wird auf den Datensatz verwendet\n",
    "gefilterte_text = text.apply(cs_filter)\n",
    "my_df = df[gefilterte_text]\n",
    "print(str(len(my_df)) + ' Twitter-Texte mit IT-Sicherheit Termen werden gefunden')"
   ]
  },
  {
   "cell_type": "code",
   "execution_count": 16,
   "metadata": {},
   "outputs": [
    {
     "name": "stderr",
     "output_type": "stream",
     "text": [
      "<ipython-input-16-d67921a4f70f>:1: UserWarning: Boolean Series key will be reindexed to match DataFrame index.\n",
      "  my_df= pd.DataFrame(my_df[gefilterte_text])\n"
     ]
    }
   ],
   "source": [
    "my_df= pd.DataFrame(my_df[gefilterte_text])\n",
    "my_df = my_df.reset_index(drop=True)"
   ]
  },
  {
   "cell_type": "markdown",
   "metadata": {},
   "source": [
    "### 2.2 Datenvorverarbeitung:"
   ]
  },
  {
   "cell_type": "code",
   "execution_count": 17,
   "metadata": {},
   "outputs": [
    {
     "name": "stdout",
     "output_type": "stream",
     "text": [
      "Daten sind fertig verarbeitet\n"
     ]
    }
   ],
   "source": [
    "# notwendige Python-Pakete importieren\n",
    "import pandas as pd\n",
    "import re\n",
    "from bs4 import BeautifulSoup\n",
    "from nltk.tokenize import WordPunctTokenizer\n",
    "\n",
    "con_dict = {\"isn't\":\"is not\", \"aren't\":\"are not\", \"wasn't\":\"was not\", \n",
    "            \"weren't\":\"were not\",\"haven't\":\"have not\",\"hasn't\":\"has not\",\n",
    "            \"hadn't\":\"had not\",\"won't\":\"will not\",\"wouldn't\":\"would not\",\n",
    "            \"don't\":\"do not\", \"doesn't\":\"does not\",\"didn't\":\"did not\",\n",
    "            \"can't\":\"can not\",\"couldn't\":\"could not\",\"shouldn't\":\"should not\",\n",
    "            \"mightn't\":\"might not\",\"mustn't\":\"must not\", \"'s\":\" is\", \"'re\":\" are\", \n",
    "            \"'m\":\" am\", \"'ll\":\" will\", \"'d\":\" would\"}\n",
    "\n",
    "con_re = re.compile('(%s)' % '|'.join(con_dict.keys()))\n",
    "tok = WordPunctTokenizer()\n",
    "\n",
    "# Vorverarbeitungsschritte, die unternommen werden sollen, sind z.B. Trennung der zusammengezogenen Wörter,\n",
    "# Entfernung von Sonderzeichen und Zahlen, HTML-Umwandlung, Kleinschreibung\n",
    "def dvv(text):    \n",
    "    wort_trennen = con_re.sub(lambda x: con_dict[x.group()],str(text))\n",
    "    url_entfernen = re.sub('((www.[^ ]+)|(https?://[^ ]+))','',wort_trennen)\n",
    "    soup = BeautifulSoup(url_entfernen, 'lxml')\n",
    "    souped = soup.get_text()\n",
    "    klein_umwandeln = str(souped).lower()\n",
    "    zahlen_entfern = re.sub(r'((@[A-Za-z0-9_]+)|([0-9]+)|([&?.!/;:%*+-<>§$]))', \" \", klein_umwandeln)\n",
    "    wort = [x for x  in tok.tokenize(zahlen_entfern) if len(x) > 1]\n",
    "    return (\" \".join(wort)).strip()\n",
    "\n",
    "# Alle Texte im Datensatz werden verarbeitet...\n",
    "dvv_text = []\n",
    "for i in range(0,len(my_df)):\n",
    "    dvv_text.append(dvv(my_df['text'][i]))\n",
    "print('Daten sind fertig verarbeitet')\n",
    "\n",
    "#...und als eine .csv-Datei abgespeichert\n",
    "new_data = pd.DataFrame(dvv_text,columns=['text'])\n",
    "new_data.text.dropna(inplace=True)"
   ]
  },
  {
   "cell_type": "markdown",
   "metadata": {},
   "source": [
    "### 2.3 Sentimentklassifizierung:"
   ]
  },
  {
   "cell_type": "code",
   "execution_count": 18,
   "metadata": {},
   "outputs": [
    {
     "data": {
      "text/html": [
       "<div>\n",
       "<style scoped>\n",
       "    .dataframe tbody tr th:only-of-type {\n",
       "        vertical-align: middle;\n",
       "    }\n",
       "\n",
       "    .dataframe tbody tr th {\n",
       "        vertical-align: top;\n",
       "    }\n",
       "\n",
       "    .dataframe thead th {\n",
       "        text-align: right;\n",
       "    }\n",
       "</style>\n",
       "<table border=\"1\" class=\"dataframe\">\n",
       "  <thead>\n",
       "    <tr style=\"text-align: right;\">\n",
       "      <th></th>\n",
       "      <th>text</th>\n",
       "      <th>sentiment</th>\n",
       "      <th>datum</th>\n",
       "      <th>user_name</th>\n",
       "      <th>standort</th>\n",
       "    </tr>\n",
       "  </thead>\n",
       "  <tbody>\n",
       "    <tr>\n",
       "      <th>0</th>\n",
       "      <td>Sounds like a hack or conspiracy? Who and why ...</td>\n",
       "      <td>1</td>\n",
       "      <td>2020-10-15 05:33:53</td>\n",
       "      <td>MadeinArmenia1</td>\n",
       "      <td>Los Angeles</td>\n",
       "    </tr>\n",
       "    <tr>\n",
       "      <th>1</th>\n",
       "      <td>@lhunt2245 Thank you! Antifa punks, right-wing...</td>\n",
       "      <td>0</td>\n",
       "      <td>2020-10-15 07:23:54</td>\n",
       "      <td>FredGar79388580</td>\n",
       "      <td>Berkeley</td>\n",
       "    </tr>\n",
       "    <tr>\n",
       "      <th>2</th>\n",
       "      <td>Check out my Gig on Fiverr: build rigid strate...</td>\n",
       "      <td>1</td>\n",
       "      <td>2020-10-15 11:11:16</td>\n",
       "      <td>ADELOWOSEGUN17</td>\n",
       "      <td>NaN</td>\n",
       "    </tr>\n",
       "    <tr>\n",
       "      <th>3</th>\n",
       "      <td>â¡ï¸ Este o Ãºltimo episÃ³dio de uma saga em...</td>\n",
       "      <td>1</td>\n",
       "      <td>2020-10-15 13:18:26</td>\n",
       "      <td>_portalopoder</td>\n",
       "      <td>Manaus</td>\n",
       "    </tr>\n",
       "    <tr>\n",
       "      <th>4</th>\n",
       "      <td>#tbt de comÃ­cios de Hillary Clinton e Donald ...</td>\n",
       "      <td>1</td>\n",
       "      <td>2020-10-15 14:28:16</td>\n",
       "      <td>Fabio_Turci</td>\n",
       "      <td>SÃ£o Paulo</td>\n",
       "    </tr>\n",
       "  </tbody>\n",
       "</table>\n",
       "</div>"
      ],
      "text/plain": [
       "                                                text  sentiment  \\\n",
       "0  Sounds like a hack or conspiracy? Who and why ...          1   \n",
       "1  @lhunt2245 Thank you! Antifa punks, right-wing...          0   \n",
       "2  Check out my Gig on Fiverr: build rigid strate...          1   \n",
       "3  â¡ï¸ Este o Ãºltimo episÃ³dio de uma saga em...          1   \n",
       "4  #tbt de comÃ­cios de Hillary Clinton e Donald ...          1   \n",
       "\n",
       "                 datum        user_name     standort  \n",
       "0  2020-10-15 05:33:53   MadeinArmenia1  Los Angeles  \n",
       "1  2020-10-15 07:23:54  FredGar79388580     Berkeley  \n",
       "2  2020-10-15 11:11:16   ADELOWOSEGUN17          NaN  \n",
       "3  2020-10-15 13:18:26    _portalopoder       Manaus  \n",
       "4  2020-10-15 14:28:16      Fabio_Turci   SÃ£o Paulo  "
      ]
     },
     "execution_count": 18,
     "metadata": {},
     "output_type": "execute_result"
    }
   ],
   "source": [
    "new_text = new_data.text\n",
    "X_mat_2 = tvec.transform(new_text)\n",
    "y_hat_2 = lr_model.predict(X_mat_2)\n",
    "\n",
    "# neu klassifizierte Daten können angeschaut werden\n",
    "predict = pd.DataFrame(my_df.text)\n",
    "predict['sentiment'] = y_hat_2\n",
    "predict['datum'] = my_df.created_at\n",
    "predict['user_name'] = my_df.user_screen_name\n",
    "predict['standort'] = my_df.city\n",
    "predict.head()"
   ]
  },
  {
   "cell_type": "code",
   "execution_count": 19,
   "metadata": {},
   "outputs": [
    {
     "data": {
      "text/plain": [
       "1    1303\n",
       "0     707\n",
       "Name: sentiment, dtype: int64"
      ]
     },
     "execution_count": 19,
     "metadata": {},
     "output_type": "execute_result"
    }
   ],
   "source": [
    "predict[\"sentiment\"].value_counts()"
   ]
  },
  {
   "cell_type": "code",
   "execution_count": 20,
   "metadata": {},
   "outputs": [
    {
     "data": {
      "image/png": "[encoded data removed]",
      "text/plain": [
       "<Figure size 432x432 with 1 Axes>"
      ]
     },
     "metadata": {},
     "output_type": "display_data"
    }
   ],
   "source": [
    "import matplotlib.pyplot as plt\n",
    "plt.style.use('fivethirtyeight')\n",
    "plt.figure(figsize=(6, 6))\n",
    "plt.pie(\n",
    "    predict[\"sentiment\"].value_counts(),\n",
    "    autopct = \"%.2f%%\",\n",
    "    labels = [\"positiv\", \"negativ\"],\n",
    "    colors = [\"#00ff00\", \"#ff0000\"]\n",
    ")\n",
    "\n",
    "circle = plt.Circle((0,0), 0.80,fc='white')\n",
    "fig = plt.gcf()\n",
    "fig.gca().add_artist(circle)\n",
    "\n",
    "plt.show()"
   ]
  },
  {
   "cell_type": "code",
   "execution_count": 21,
   "metadata": {},
   "outputs": [
    {
     "data": {
      "text/html": [
       "<div>\n",
       "<style scoped>\n",
       "    .dataframe tbody tr th:only-of-type {\n",
       "        vertical-align: middle;\n",
       "    }\n",
       "\n",
       "    .dataframe tbody tr th {\n",
       "        vertical-align: top;\n",
       "    }\n",
       "\n",
       "    .dataframe thead th {\n",
       "        text-align: right;\n",
       "    }\n",
       "</style>\n",
       "<table border=\"1\" class=\"dataframe\">\n",
       "  <thead>\n",
       "    <tr style=\"text-align: right;\">\n",
       "      <th></th>\n",
       "      <th>user_name</th>\n",
       "    </tr>\n",
       "  </thead>\n",
       "  <tbody>\n",
       "    <tr>\n",
       "      <th>Detlef_2025</th>\n",
       "      <td>11</td>\n",
       "    </tr>\n",
       "    <tr>\n",
       "      <th>thescoborges</th>\n",
       "      <td>7</td>\n",
       "    </tr>\n",
       "    <tr>\n",
       "      <th>zater_barri</th>\n",
       "      <td>6</td>\n",
       "    </tr>\n",
       "    <tr>\n",
       "      <th>TelemundoNews</th>\n",
       "      <td>5</td>\n",
       "    </tr>\n",
       "    <tr>\n",
       "      <th>Mundo__News</th>\n",
       "      <td>4</td>\n",
       "    </tr>\n",
       "    <tr>\n",
       "      <th>capitalizo</th>\n",
       "      <td>3</td>\n",
       "    </tr>\n",
       "    <tr>\n",
       "      <th>luciaazevedo</th>\n",
       "      <td>3</td>\n",
       "    </tr>\n",
       "  </tbody>\n",
       "</table>\n",
       "</div>"
      ],
      "text/plain": [
       "               user_name\n",
       "Detlef_2025           11\n",
       "thescoborges           7\n",
       "zater_barri            6\n",
       "TelemundoNews          5\n",
       "Mundo__News            4\n",
       "capitalizo             3\n",
       "luciaazevedo           3"
      ]
     },
     "execution_count": 21,
     "metadata": {},
     "output_type": "execute_result"
    }
   ],
   "source": [
    "text_negative_org = predict[predict[\"sentiment\"]==0]\n",
    "user = text_negative_org['user_name'].value_counts().nlargest(7)\n",
    "pd.DataFrame(user)"
   ]
  }
 ],
 "metadata": {
  "kernelspec": {
   "display_name": "Python 3",
   "language": "python",
   "name": "python3"
  },
  "language_info": {
   "codemirror_mode": {
    "name": "ipython",
    "version": 3
   },
   "file_extension": ".py",
   "mimetype": "text/x-python",
   "name": "python",
   "nbconvert_exporter": "python",
   "pygments_lexer": "ipython3",
   "version": "3.8.3"
  }
 },
 "nbformat": 4,
 "nbformat_minor": 4
}
